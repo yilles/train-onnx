{
 "cells": [
  {
   "cell_type": "code",
   "execution_count": 1,
   "id": "2911ce2b-d857-4e83-941d-6d6028ef9759",
   "metadata": {},
   "outputs": [],
   "source": [
    "import torch\n",
    "import torchvision\n",
    "\n",
    "model = torchvision.models.mobilenet_v2(\n",
    "    weights=torchvision.models.MobileNet_V2_Weights.IMAGENET1K_V2)"
   ]
  },
  {
   "cell_type": "code",
   "execution_count": 2,
   "id": "5b6c23c4-2ed8-40c5-881f-90fa91c78a92",
   "metadata": {},
   "outputs": [],
   "source": [
    "model.classifier[1] = torch.nn.Linear(1280, 4)"
   ]
  },
  {
   "cell_type": "code",
   "execution_count": 3,
   "id": "07395ee7-59a3-4120-bf73-7fd55a2e50ea",
   "metadata": {},
   "outputs": [],
   "source": [
    "model_name = \"mobilenetv2\"\n",
    "torch.onnx.export(model, torch.randn(1, 3, 224, 224),\n",
    "                  f\"training_artifacts/{model_name}.onnx\",\n",
    "                  input_names=[\"input\"], output_names=[\"output\"],\n",
    "                  dynamic_axes={\"input\": {0: \"batch\"}, \"output\": {0: \"batch\"}})"
   ]
  },
  {
   "cell_type": "code",
   "execution_count": 4,
   "id": "b2b28766-6f71-4641-9c7b-3062135a67c5",
   "metadata": {},
   "outputs": [],
   "source": [
    "import onnx\n",
    "from onnxruntime.training import artifacts"
   ]
  },
  {
   "cell_type": "code",
   "execution_count": 5,
   "id": "d68fc95e-2311-4d1d-8988-5ae59d8ec31b",
   "metadata": {
    "scrolled": true
   },
   "outputs": [
    {
     "name": "stderr",
     "output_type": "stream",
     "text": [
      "2024-09-18 17:37:23.981495875 [I:onnxruntime:Default, constant_sharing.cc:248 ApplyImpl] Total shared scalar initializer count: 68\n",
      "2024-09-18 17:37:23.981863375 [I:onnxruntime:Default, graph_transformer.cc:15 Apply] GraphTransformer ConstantSharing modified: 1 with status: OK\n",
      "2024-09-18 17:37:23.982323675 [I:onnxruntime:Default, graph_transformer.cc:15 Apply] GraphTransformer LayerNormFusion modified: 0 with status: OK\n",
      "2024-09-18 17:37:23.982421975 [I:onnxruntime:Default, graph_transformer.cc:15 Apply] GraphTransformer CommonSubexpressionElimination modified: 0 with status: OK\n",
      "2024-09-18 17:37:23.982446675 [I:onnxruntime:Default, graph_transformer.cc:15 Apply] GraphTransformer GeluFusion modified: 0 with status: OK\n",
      "2024-09-18 17:37:23.982462075 [I:onnxruntime:Default, graph_transformer.cc:15 Apply] GraphTransformer SimplifiedLayerNormFusion modified: 0 with status: OK\n",
      "2024-09-18 17:37:23.982476775 [I:onnxruntime:Default, graph_transformer.cc:15 Apply] GraphTransformer FastGeluFusion modified: 0 with status: OK\n",
      "2024-09-18 17:37:23.982491775 [I:onnxruntime:Default, graph_transformer.cc:15 Apply] GraphTransformer QuickGeluFusion modified: 0 with status: OK\n",
      "2024-09-18 17:37:23.982506375 [I:onnxruntime:Default, graph_transformer.cc:15 Apply] GraphTransformer SoftmaxCrossEntropyLossInternalFusion modified: 0 with status: OK\n",
      "2024-09-18 17:37:23.982532275 [I:onnxruntime:Default, graph_transformer.cc:15 Apply] GraphTransformer GatherSliceToSplitFusion modified: 0 with status: OK\n",
      "2024-09-18 17:37:23.982547375 [I:onnxruntime:Default, graph_transformer.cc:15 Apply] GraphTransformer GatherToSliceFusion modified: 0 with status: OK\n",
      "2024-09-18 17:37:23.982573075 [I:onnxruntime:Default, graph_transformer.cc:15 Apply] GraphTransformer QDQFusion modified: 0 with status: OK\n",
      "2024-09-18 17:37:23.982597075 [I:onnxruntime:Default, graph_transformer.cc:15 Apply] GraphTransformer ConstantFolding modified: 0 with status: OK\n",
      "2024-09-18 17:37:23.982611875 [I:onnxruntime:Default, graph_transformer.cc:15 Apply] GraphTransformer ReshapeFusion modified: 0 with status: OK\n",
      "2024-09-18 17:37:23.982626075 [I:onnxruntime:Default, graph_transformer.cc:15 Apply] GraphTransformer ShapeOptimizer modified: 0 with status: OK\n",
      "2024-09-18 17:37:23.982640075 [I:onnxruntime:Default, graph_transformer.cc:15 Apply] GraphTransformer ConcatSliceElimination modified: 0 with status: OK\n",
      "2024-09-18 17:37:23.982695675 [I:onnxruntime:Default, graph_transformer.cc:15 Apply] GraphTransformer PropagateCastOps modified: 0 with status: OK\n",
      "2024-09-18 17:37:23.982711475 [I:onnxruntime:Default, graph_transformer.cc:15 Apply] GraphTransformer CastSceLossFusion modified: 0 with status: OK\n",
      "2024-09-18 17:37:23.982733275 [I:onnxruntime:Default, graph_transformer.cc:15 Apply] GraphTransformer Level1_RuleBasedTransformer modified: 0 with status: OK\n",
      "2024-09-18 17:37:23.982747075 [I:onnxruntime:Default, graph_transformer.cc:15 Apply] GraphTransformer ConstantSharing modified: 0 with status: OK\n",
      "2024-09-18 17:37:23.982762775 [I:onnxruntime:Default, graph_transformer.cc:15 Apply] GraphTransformer LayerNormFusion modified: 0 with status: OK\n",
      "2024-09-18 17:37:23.982856075 [I:onnxruntime:Default, graph_transformer.cc:15 Apply] GraphTransformer CommonSubexpressionElimination modified: 0 with status: OK\n",
      "2024-09-18 17:37:23.982878875 [I:onnxruntime:Default, graph_transformer.cc:15 Apply] GraphTransformer GeluFusion modified: 0 with status: OK\n",
      "2024-09-18 17:37:23.982893775 [I:onnxruntime:Default, graph_transformer.cc:15 Apply] GraphTransformer SimplifiedLayerNormFusion modified: 0 with status: OK\n",
      "2024-09-18 17:37:23.982924075 [I:onnxruntime:Default, graph_transformer.cc:15 Apply] GraphTransformer FastGeluFusion modified: 0 with status: OK\n",
      "2024-09-18 17:37:23.982949375 [I:onnxruntime:Default, graph_transformer.cc:15 Apply] GraphTransformer QuickGeluFusion modified: 0 with status: OK\n",
      "2024-09-18 17:37:23.982969775 [I:onnxruntime:Default, graph_transformer.cc:15 Apply] GraphTransformer SoftmaxCrossEntropyLossInternalFusion modified: 0 with status: OK\n",
      "2024-09-18 17:37:23.982995675 [I:onnxruntime:Default, graph_transformer.cc:15 Apply] GraphTransformer GatherSliceToSplitFusion modified: 0 with status: OK\n",
      "2024-09-18 17:37:23.983010575 [I:onnxruntime:Default, graph_transformer.cc:15 Apply] GraphTransformer GatherToSliceFusion modified: 0 with status: OK\n",
      "2024-09-18 17:37:23.983024575 [I:onnxruntime:Default, graph_transformer.cc:15 Apply] GraphTransformer QDQFusion modified: 0 with status: OK\n",
      "2024-09-18 17:37:23.983043875 [I:onnxruntime:Default, graph_transformer.cc:15 Apply] GraphTransformer ConstantFolding modified: 0 with status: OK\n",
      "2024-09-18 17:37:23.983057875 [I:onnxruntime:Default, graph_transformer.cc:15 Apply] GraphTransformer ReshapeFusion modified: 0 with status: OK\n",
      "2024-09-18 17:37:23.983071475 [I:onnxruntime:Default, graph_transformer.cc:15 Apply] GraphTransformer ShapeOptimizer modified: 0 with status: OK\n",
      "2024-09-18 17:37:23.983085075 [I:onnxruntime:Default, graph_transformer.cc:15 Apply] GraphTransformer ConcatSliceElimination modified: 0 with status: OK\n",
      "2024-09-18 17:37:23.983135875 [I:onnxruntime:Default, graph_transformer.cc:15 Apply] GraphTransformer PropagateCastOps modified: 0 with status: OK\n",
      "2024-09-18 17:37:23.983151075 [I:onnxruntime:Default, graph_transformer.cc:15 Apply] GraphTransformer CastSceLossFusion modified: 0 with status: OK\n",
      "2024-09-18 17:37:23.983167575 [I:onnxruntime:Default, graph_transformer.cc:15 Apply] GraphTransformer Level1_RuleBasedTransformer modified: 0 with status: OK\n",
      "2024-09-18 17:37:23.983182975 [I:onnxruntime:Default, graph_transformer.cc:15 Apply] GraphTransformer Level2_RuleBasedTransformer modified: 0 with status: OK\n",
      "2024-09-18 17:37:23.986001575 [I:onnxruntime:Default, graph_transformer.cc:15 Apply] GraphTransformer pre_training_rule_based_graph_transformer modified: 0 with status: OK\n"
     ]
    }
   ],
   "source": [
    "onnx_model = onnx.load(f\"training_artifacts/{model_name}.onnx\")\n",
    "\n",
    "requires_grad = [\"classifier.1.weight\", \"classifier.1.bias\"]\n",
    "frozen_params = [\n",
    "    param.name\n",
    "    for param in onnx_model.graph.initializer\n",
    "    if param.name not in requires_grad\n",
    "]\n",
    "\n",
    "artifacts.generate_artifacts(\n",
    "    onnx_model,\n",
    "    requires_grad=requires_grad,\n",
    "    frozen_params=frozen_params,\n",
    "    loss=artifacts.LossType.CrossEntropyLoss,\n",
    "    optimizer=artifacts.OptimType.AdamW,\n",
    "    artifact_directory=\"training_artifacts\"\n",
    ")"
   ]
  }
 ],
 "metadata": {
  "kernelspec": {
   "display_name": "Python 3 (ipykernel)",
   "language": "python",
   "name": "python3"
  },
  "language_info": {
   "codemirror_mode": {
    "name": "ipython",
    "version": 3
   },
   "file_extension": ".py",
   "mimetype": "text/x-python",
   "name": "python",
   "nbconvert_exporter": "python",
   "pygments_lexer": "ipython3",
   "version": "3.10.12"
  }
 },
 "nbformat": 4,
 "nbformat_minor": 5
}
